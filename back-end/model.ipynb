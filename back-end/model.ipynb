{
 "cells": [
  {
   "cell_type": "code",
   "execution_count": 20,
   "metadata": {},
   "outputs": [],
   "source": [
    "from PIL import Image\n",
    "from io import BytesIO\n",
    "import pandas as pd\n",
    "import numpy as np\n",
    "\n",
    "def bytestring_to_jpeg(bytestring, filename):\n",
    "    try:\n",
    "        image_bytes = BytesIO(bytestring)\n",
    "        image = Image.open(image_bytes)\n",
    "        image.save(filename)\n",
    "\n",
    "        return image\n",
    "    except Exception as e:\n",
    "        print(f\"Error converting bytestring to JPEG: {e}\")\n",
    "        return None\n",
    "\n",
    "photos = pd.read_csv(\"test.csv\")"
   ]
  },
  {
   "cell_type": "code",
   "execution_count": 21,
   "metadata": {},
   "outputs": [
    {
     "data": {
      "text/html": [
       "<div>\n",
       "<style scoped>\n",
       "    .dataframe tbody tr th:only-of-type {\n",
       "        vertical-align: middle;\n",
       "    }\n",
       "\n",
       "    .dataframe tbody tr th {\n",
       "        vertical-align: top;\n",
       "    }\n",
       "\n",
       "    .dataframe thead th {\n",
       "        text-align: right;\n",
       "    }\n",
       "</style>\n",
       "<table border=\"1\" class=\"dataframe\">\n",
       "  <thead>\n",
       "    <tr style=\"text-align: right;\">\n",
       "      <th></th>\n",
       "      <th>filename</th>\n",
       "      <th>captions</th>\n",
       "      <th>image</th>\n",
       "    </tr>\n",
       "  </thead>\n",
       "  <tbody>\n",
       "    <tr>\n",
       "      <th>0</th>\n",
       "      <td>rsicd_images/airport_348.jpg</td>\n",
       "      <td>['The airport is very large.' 'next to the air...</td>\n",
       "      <td>{'bytes': b'\\xff\\xd8\\xff\\xe0\\x00\\x10JFIF\\x00\\x...</td>\n",
       "    </tr>\n",
       "    <tr>\n",
       "      <th>1</th>\n",
       "      <td>rsicd_images/airport_349.jpg</td>\n",
       "      <td>['green grass on both sides of the runway.'\\n ...</td>\n",
       "      <td>{'bytes': b'\\xff\\xd8\\xff\\xe0\\x00\\x10JFIF\\x00\\x...</td>\n",
       "    </tr>\n",
       "    <tr>\n",
       "      <th>2</th>\n",
       "      <td>rsicd_images/airport_35.jpg</td>\n",
       "      <td>[\"There's a lot of bare ground around the airp...</td>\n",
       "      <td>{'bytes': b'\\xff\\xd8\\xff\\xe0\\x00\\x10JFIF\\x00\\x...</td>\n",
       "    </tr>\n",
       "    <tr>\n",
       "      <th>3</th>\n",
       "      <td>rsicd_images/airport_350.jpg</td>\n",
       "      <td>[\"There's a lot of bare land near the airport....</td>\n",
       "      <td>{'bytes': b'\\xff\\xd8\\xff\\xe0\\x00\\x10JFIF\\x00\\x...</td>\n",
       "    </tr>\n",
       "    <tr>\n",
       "      <th>4</th>\n",
       "      <td>rsicd_images/airport_351.jpg</td>\n",
       "      <td>['the airport covers a large area and has many...</td>\n",
       "      <td>{'bytes': b'\\xff\\xd8\\xff\\xe0\\x00\\x10JFIF\\x00\\x...</td>\n",
       "    </tr>\n",
       "  </tbody>\n",
       "</table>\n",
       "</div>"
      ],
      "text/plain": [
       "                       filename  \\\n",
       "0  rsicd_images/airport_348.jpg   \n",
       "1  rsicd_images/airport_349.jpg   \n",
       "2   rsicd_images/airport_35.jpg   \n",
       "3  rsicd_images/airport_350.jpg   \n",
       "4  rsicd_images/airport_351.jpg   \n",
       "\n",
       "                                            captions  \\\n",
       "0  ['The airport is very large.' 'next to the air...   \n",
       "1  ['green grass on both sides of the runway.'\\n ...   \n",
       "2  [\"There's a lot of bare ground around the airp...   \n",
       "3  [\"There's a lot of bare land near the airport....   \n",
       "4  ['the airport covers a large area and has many...   \n",
       "\n",
       "                                               image  \n",
       "0  {'bytes': b'\\xff\\xd8\\xff\\xe0\\x00\\x10JFIF\\x00\\x...  \n",
       "1  {'bytes': b'\\xff\\xd8\\xff\\xe0\\x00\\x10JFIF\\x00\\x...  \n",
       "2  {'bytes': b'\\xff\\xd8\\xff\\xe0\\x00\\x10JFIF\\x00\\x...  \n",
       "3  {'bytes': b'\\xff\\xd8\\xff\\xe0\\x00\\x10JFIF\\x00\\x...  \n",
       "4  {'bytes': b'\\xff\\xd8\\xff\\xe0\\x00\\x10JFIF\\x00\\x...  "
      ]
     },
     "execution_count": 21,
     "metadata": {},
     "output_type": "execute_result"
    }
   ],
   "source": [
    "photos.head()"
   ]
  },
  {
   "cell_type": "code",
   "execution_count": 1,
   "metadata": {},
   "outputs": [
    {
     "ename": "NameError",
     "evalue": "name 'photos' is not defined",
     "output_type": "error",
     "traceback": [
      "\u001b[1;31m---------------------------------------------------------------------------\u001b[0m",
      "\u001b[1;31mNameError\u001b[0m                                 Traceback (most recent call last)",
      "Cell \u001b[1;32mIn[1], line 2\u001b[0m\n\u001b[0;32m      1\u001b[0m count \u001b[38;5;241m=\u001b[39m \u001b[38;5;241m0\u001b[39m\n\u001b[1;32m----> 2\u001b[0m \u001b[38;5;28;01mfor\u001b[39;00m index, row \u001b[38;5;129;01min\u001b[39;00m photos\u001b[38;5;241m.\u001b[39miterrows():\n\u001b[0;32m      3\u001b[0m     i\u001b[38;5;241m=\u001b[39mrow[\u001b[38;5;124m'\u001b[39m\u001b[38;5;124mimage\u001b[39m\u001b[38;5;124m'\u001b[39m]\n\u001b[0;32m      4\u001b[0m     j \u001b[38;5;241m=\u001b[39m \u001b[38;5;28meval\u001b[39m(i)\n",
      "\u001b[1;31mNameError\u001b[0m: name 'photos' is not defined"
     ]
    }
   ],
   "source": [
    "count = 0\n",
    "for index, row in photos.iterrows():\n",
    "    i=row['image']\n",
    "    j = eval(i)\n",
    "    bytestring_to_jpeg(j['bytes'],row['filename'].split('/')[-1])\n",
    "    count=count+1"
   ]
  },
  {
   "cell_type": "code",
   "execution_count": 16,
   "metadata": {},
   "outputs": [
    {
     "ename": "",
     "evalue": "",
     "output_type": "error",
     "traceback": [
      "\u001b[1;31mThe Kernel crashed while executing code in the current cell or a previous cell. \n",
      "\u001b[1;31mPlease review the code in the cell(s) to identify a possible cause of the failure. \n",
      "\u001b[1;31mClick <a href='https://aka.ms/vscodeJupyterKernelCrash'>here</a> for more info. \n",
      "\u001b[1;31mView Jupyter <a href='command:jupyter.viewOutput'>log</a> for further details."
     ]
    }
   ],
   "source": [
    "import pandas as pd\n",
    "\n",
    "training = pd.read_csv(\"test.csv\")\n",
    "\n",
    "training.drop('image',inplace=True, axis=1)\n",
    "\n",
    "training['filename'] = training['filename'].apply(lambda x: x.split('/')[-1])\n",
    "training['captions'] = training['captions'].apply(lambda x: list(eval(x))[0])\n",
    "\n",
    "training['image']=training['filename']\n",
    "training['caption'] = training['captions']\n",
    "training.drop('filename',inplace=True, axis=1)\n",
    "training.drop('captions',inplace=True, axis=1)\n",
    "\n",
    "training.to_csv('captions_test.txt',sep=\",\", index=False, encoding='utf-8')"
   ]
  }
 ],
 "metadata": {
  "kernelspec": {
   "display_name": "base",
   "language": "python",
   "name": "python3"
  },
  "language_info": {
   "codemirror_mode": {
    "name": "ipython",
    "version": 3
   },
   "file_extension": ".py",
   "mimetype": "text/x-python",
   "name": "python",
   "nbconvert_exporter": "python",
   "pygments_lexer": "ipython3",
   "version": "3.11.5"
  }
 },
 "nbformat": 4,
 "nbformat_minor": 2
}
